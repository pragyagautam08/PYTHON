{
  "nbformat": 4,
  "nbformat_minor": 0,
  "metadata": {
    "colab": {
      "provenance": [],
      "authorship_tag": "ABX9TyOCTs7alwSEIdRNA8GF0VOO",
      "include_colab_link": true
    },
    "kernelspec": {
      "name": "python3",
      "display_name": "Python 3"
    },
    "language_info": {
      "name": "python"
    }
  },
  "cells": [
    {
      "cell_type": "markdown",
      "metadata": {
        "id": "view-in-github",
        "colab_type": "text"
      },
      "source": [
        "<a href=\"https://colab.research.google.com/github/pragyagautam08/PYTHON/blob/main/RA2211042010022.ipynb\" target=\"_parent\"><img src=\"https://colab.research.google.com/assets/colab-badge.svg\" alt=\"Open In Colab\"/></a>"
      ]
    },
    {
      "cell_type": "code",
      "execution_count": null,
      "metadata": {
        "colab": {
          "base_uri": "https://localhost:8080/"
        },
        "id": "V7RyTHFGGKeq",
        "outputId": "cde0fb95-5880-4c75-cde0-43036c0f3bd2"
      },
      "outputs": [
        {
          "output_type": "stream",
          "name": "stdout",
          "text": [
            "INDIGO BY RM\n"
          ]
        }
      ],
      "source": [
        "print(\"INDIGO BY RM\")"
      ]
    },
    {
      "cell_type": "markdown",
      "source": [
        "displaying a sentence"
      ],
      "metadata": {
        "id": "N7pNv8owNwKH"
      }
    },
    {
      "cell_type": "code",
      "source": [
        "123+321"
      ],
      "metadata": {
        "colab": {
          "base_uri": "https://localhost:8080/"
        },
        "id": "fTyNvoL2MB0N",
        "outputId": "351b680f-6b40-4486-c83d-d11b921a92fa"
      },
      "execution_count": 4,
      "outputs": [
        {
          "output_type": "execute_result",
          "data": {
            "text/plain": [
              "444"
            ]
          },
          "metadata": {},
          "execution_count": 4
        }
      ]
    },
    {
      "cell_type": "markdown",
      "source": [
        "addition of two numbers"
      ],
      "metadata": {
        "id": "cF4KeRPIN6Vn"
      }
    },
    {
      "cell_type": "code",
      "source": [
        "78965-34532"
      ],
      "metadata": {
        "colab": {
          "base_uri": "https://localhost:8080/"
        },
        "id": "Vi8eQMzON-VQ",
        "outputId": "4bc28773-c7e9-42c1-fb9d-73d191a05bea"
      },
      "execution_count": 5,
      "outputs": [
        {
          "output_type": "execute_result",
          "data": {
            "text/plain": [
              "44433"
            ]
          },
          "metadata": {},
          "execution_count": 5
        }
      ]
    },
    {
      "cell_type": "markdown",
      "source": [
        "subtraction of two numbers"
      ],
      "metadata": {
        "id": "zndmGsRLONla"
      }
    },
    {
      "cell_type": "code",
      "source": [
        "313*22"
      ],
      "metadata": {
        "colab": {
          "base_uri": "https://localhost:8080/"
        },
        "id": "PXVkUfCYOg1f",
        "outputId": "00236798-b603-481d-fbbb-0deb3736e88a"
      },
      "execution_count": 7,
      "outputs": [
        {
          "output_type": "execute_result",
          "data": {
            "text/plain": [
              "6886"
            ]
          },
          "metadata": {},
          "execution_count": 7
        }
      ]
    },
    {
      "cell_type": "markdown",
      "source": [
        "multiplication of two numbers"
      ],
      "metadata": {
        "id": "X50gkddsPePj"
      }
    },
    {
      "cell_type": "code",
      "source": [
        "print(\"CNS by JHOPE \", end='')\n",
        "print(\"ft. BECKY G\")"
      ],
      "metadata": {
        "colab": {
          "base_uri": "https://localhost:8080/"
        },
        "id": "kiWabAStPuVm",
        "outputId": "33398e97-e70d-48d4-de93-5c0debf1827b"
      },
      "execution_count": 9,
      "outputs": [
        {
          "output_type": "stream",
          "name": "stdout",
          "text": [
            "CNS by JHOPE ft. BECKY G\n"
          ]
        }
      ]
    },
    {
      "cell_type": "markdown",
      "source": [],
      "metadata": {
        "id": "UJBzRfVKNush"
      }
    }
  ]
}